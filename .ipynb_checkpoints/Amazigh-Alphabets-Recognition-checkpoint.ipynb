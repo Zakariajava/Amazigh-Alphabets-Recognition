{
 "cells": [
  {
   "cell_type": "markdown",
   "id": "4c736c7b-b9d1-4b2a-8054-f2f5279a6258",
   "metadata": {},
   "source": [
    "# Amazigh Alphabets Recognition CNN LeNet-5"
   ]
  },
  {
   "cell_type": "markdown",
   "id": "5b2ecfa7-6027-4ca7-8421-506ae10ec60f",
   "metadata": {},
   "source": [
    "# Import libraries"
   ]
  },
  {
   "cell_type": "code",
   "execution_count": 28,
   "id": "222d633a-d8ee-4d93-8784-b54d93937ac8",
   "metadata": {},
   "outputs": [],
   "source": [
    "import os\n",
    "import pandas as pd\n",
    "from PIL import Image\n",
    "import numpy as np\n",
    "import cv2\n",
    "import tensorflow as tf\n",
    "import matplotlib.pyplot as plt\n",
    "from sklearn.model_selection import train_test_split"
   ]
  },
  {
   "cell_type": "markdown",
   "id": "f268f1cf-a735-47e7-bed7-431dee9fa53e",
   "metadata": {},
   "source": [
    "# Loading dataset"
   ]
  },
  {
   "cell_type": "code",
   "execution_count": 2,
   "id": "cff6c4ad-eaf4-4d9b-b7d8-25b787563224",
   "metadata": {},
   "outputs": [],
   "source": [
    "dataset_path = 'dataset/'"
   ]
  },
  {
   "cell_type": "code",
   "execution_count": 3,
   "id": "08de381c-a56b-47e4-a6c3-c2f390e04b43",
   "metadata": {},
   "outputs": [],
   "source": [
    "images = []\n",
    "labels = []"
   ]
  },
  {
   "cell_type": "code",
   "execution_count": 4,
   "id": "507eac23-cec9-48de-b016-f81d780eb64c",
   "metadata": {},
   "outputs": [],
   "source": [
    "# Loop through the folders in the dataset directory\n",
    "for folder_name in os.listdir(dataset_path):\n",
    "    # @param folder_name is the name of each directory (folder), in this case, the name of the character\n",
    "    folder_path = os.path.join(dataset_path, folder_name)\n",
    "    # @param folder_path is the path to a folder in our dataset, representing a specific character\n",
    "    if os.path.isdir(folder_path):\n",
    "        # Loop through the images in that specific character folder\n",
    "        for filename in os.listdir(folder_path):\n",
    "            file_path = os.path.join(folder_path, filename)\n",
    "            try:\n",
    "                with Image.open(file_path) as img:\n",
    "                    # Convert the image into a numpy array\n",
    "                    img_array = np.array(img)\n",
    "                    # Add the image to our list of images\n",
    "                    images.append(img_array)\n",
    "                    # Add the label to our list of labels\n",
    "                    labels.append(folder_name)\n",
    "            except Exception as e:\n",
    "                print(f'Cannot open the image {file_path}: {e}')\n"
   ]
  },
  {
   "cell_type": "code",
   "execution_count": 5,
   "id": "c72f854e-2abf-4032-90b2-fa54b03a9209",
   "metadata": {},
   "outputs": [],
   "source": [
    "# Create a DataFrame\n",
    "df = pd.DataFrame({'image': images, 'label': labels})"
   ]
  },
  {
   "cell_type": "code",
   "execution_count": 14,
   "id": "51c08121-67f5-49ce-a2b8-f6c58f4a7d08",
   "metadata": {},
   "outputs": [
    {
     "data": {
      "image/png": "[encoded data removed]",
      "text/plain": [
       "<Figure size 640x480 with 1 Axes>"
      ]
     },
     "metadata": {},
     "output_type": "display_data"
    }
   ],
   "source": [
    "# Function to display an image from our dataset\n",
    "def show_image(image, title):\n",
    "    plt.imshow(image, cmap='gray')  # Display the image in grayscale\n",
    "    plt.title(title)  # Set the title of the plot to the label of the image\n",
    "    plt.axis('off')   # Hide the axes\n",
    "    plt.show()        # Show the plot\n",
    "\n",
    "# Show the image at index 'i' in the dataset\n",
    "i = 1602\n",
    "show_image(df['image'].iloc[i], df['label'].iloc[i])"
   ]
  },
  {
   "cell_type": "code",
   "execution_count": 15,
   "id": "e977eabd-8b09-45d4-bd55-6141d17e254f",
   "metadata": {},
   "outputs": [
    {
     "data": {
      "text/html": [
       "<div>\n",
       "<style scoped>\n",
       "    .dataframe tbody tr th:only-of-type {\n",
       "        vertical-align: middle;\n",
       "    }\n",
       "\n",
       "    .dataframe tbody tr th {\n",
       "        vertical-align: top;\n",
       "    }\n",
       "\n",
       "    .dataframe thead th {\n",
       "        text-align: right;\n",
       "    }\n",
       "</style>\n",
       "<table border=\"1\" class=\"dataframe\">\n",
       "  <thead>\n",
       "    <tr style=\"text-align: right;\">\n",
       "      <th></th>\n",
       "      <th>image</th>\n",
       "      <th>label</th>\n",
       "    </tr>\n",
       "  </thead>\n",
       "  <tbody>\n",
       "    <tr>\n",
       "      <th>0</th>\n",
       "      <td>[[[255, 255, 255], [255, 255, 255], [255, 255,...</td>\n",
       "      <td>ya</td>\n",
       "    </tr>\n",
       "    <tr>\n",
       "      <th>1</th>\n",
       "      <td>[[[255, 255, 255], [255, 255, 255], [255, 255,...</td>\n",
       "      <td>ya</td>\n",
       "    </tr>\n",
       "    <tr>\n",
       "      <th>2</th>\n",
       "      <td>[[[255, 255, 255], [255, 255, 255], [255, 255,...</td>\n",
       "      <td>ya</td>\n",
       "    </tr>\n",
       "    <tr>\n",
       "      <th>3</th>\n",
       "      <td>[[[255, 255, 255], [255, 255, 255], [255, 255,...</td>\n",
       "      <td>ya</td>\n",
       "    </tr>\n",
       "    <tr>\n",
       "      <th>4</th>\n",
       "      <td>[[[255, 255, 255], [255, 255, 255], [255, 255,...</td>\n",
       "      <td>ya</td>\n",
       "    </tr>\n",
       "  </tbody>\n",
       "</table>\n",
       "</div>"
      ],
      "text/plain": [
       "                                               image label\n",
       "0  [[[255, 255, 255], [255, 255, 255], [255, 255,...    ya\n",
       "1  [[[255, 255, 255], [255, 255, 255], [255, 255,...    ya\n",
       "2  [[[255, 255, 255], [255, 255, 255], [255, 255,...    ya\n",
       "3  [[[255, 255, 255], [255, 255, 255], [255, 255,...    ya\n",
       "4  [[[255, 255, 255], [255, 255, 255], [255, 255,...    ya"
      ]
     },
     "execution_count": 15,
     "metadata": {},
     "output_type": "execute_result"
    }
   ],
   "source": [
    "df.head()"
   ]
  },
  {
   "cell_type": "code",
   "execution_count": 31,
   "id": "bfe4d0d1-47b4-45ff-9ddd-eb1c6d5044be",
   "metadata": {},
   "outputs": [],
   "source": [
    "# Doing this because in some of dataset there was some gray images\n",
    "def grayscale_to_rgb(image):\n",
    "    # Convert a grayscale image to RGB format\n",
    "    return cv2.cvtColor(image, cv2.COLOR_GRAY2RGB)\n",
    "\n",
    "# Convert all grayscale images to RGB format\n",
    "converted_images = []\n",
    "for img in images:\n",
    "    # Convert the image to a NumPy array\n",
    "    img_array = np.array(img)\n",
    "    \n",
    "    # Check if the image is grayscale (i.e., has only 2 dimensions)\n",
    "    if len(img_array.shape) == 2:  # If the image is grayscale\n",
    "        # Convert the grayscale image to RGB format\n",
    "        img_array = grayscale_to_rgb(img_array)\n",
    "    \n",
    "    # Append the converted image to the list\n",
    "    converted_images.append(img_array)\n",
    "\n",
    "# Convert the list of images to a NumPy array\n",
    "converted_images = np.array(converted_images)"
   ]
  },
  {
   "cell_type": "code",
   "execution_count": 32,
   "id": "b41b445c-283d-40d5-aade-e6d9d30a8f44",
   "metadata": {},
   "outputs": [
    {
     "name": "stdout",
     "output_type": "stream",
     "text": [
      "Unique image shapes in the dataset: {(64, 64, 3)}\n",
      "All images have the same size.\n"
     ]
    }
   ],
   "source": [
    "# Check the dimensions of each image\n",
    "shapes = [img.shape for img in converted_images]\n",
    "unique_shapes = set(shapes)\n",
    "\n",
    "# Print the unique image shapes found in the dataset\n",
    "print(\"Unique image shapes in the dataset:\", unique_shapes)\n",
    "\n",
    "# Ensure all images have the same shape\n",
    "if len(unique_shapes) > 1:\n",
    "    # If there is more than one unique shape, print an error message\n",
    "    print(\"Error: Images with different sizes found.\")\n",
    "else:\n",
    "    # If all images have the same shape, print a confirmation message\n",
    "    print(\"All images have the same size.\")"
   ]
  },
  {
   "cell_type": "code",
   "execution_count": 34,
   "id": "2bab29bf-d33a-4af8-9346-bde371de3f36",
   "metadata": {},
   "outputs": [],
   "source": [
    "# Assign the converted images to the variable `images`\n",
    "images = converted_images"
   ]
  },
  {
   "cell_type": "code",
   "execution_count": 39,
   "id": "c1e99dd9-b534-4fd3-b663-ab4455f4a93e",
   "metadata": {},
   "outputs": [
    {
     "data": {
      "text/plain": [
       "(25740, 64, 64, 3)"
      ]
     },
     "execution_count": 39,
     "metadata": {},
     "output_type": "execute_result"
    }
   ],
   "source": [
    "# If the images do not have 3 channels (RGB) and are instead in grayscale, we need to use np.expand_dims to add the channel dimension.\n",
    "images.shape"
   ]
  },
  {
   "cell_type": "code",
   "execution_count": 41,
   "id": "dac6f002-745d-4fde-afec-aefd5babc46e",
   "metadata": {},
   "outputs": [],
   "source": [
    "# Split the data into training and testing sets\n",
    "X_train, X_test, y_train, y_test = train_test_split(images, labels, test_size=0.2, random_state=42)\n",
    "\n",
    "# Divide the training set into training and validation sets\n",
    "X_train, X_val, y_train, y_val = train_test_split(X_train, y_train, test_size=0.2, random_state=42)"
   ]
  },
  {
   "cell_type": "code",
   "execution_count": 45,
   "id": "43651b04-7622-479b-8fa0-de88e882750f",
   "metadata": {},
   "outputs": [
    {
     "name": "stdout",
     "output_type": "stream",
     "text": [
      "Image Shape: (64, 64, 3)\n",
      "\n",
      "Training Set:   16473 samples\n",
      "Validation Set:   4119 samples\n",
      "Test Set:       5148 samples\n"
     ]
    }
   ],
   "source": [
    "print(\"Image Shape: {}\".format(X_train[0].shape), end = '\\n\\n')\n",
    "print(\"Training Set:   {} samples\".format(len(X_train)))\n",
    "print(\"Validation Set:   {} samples\".format(len(X_val)))\n",
    "print(\"Test Set:       {} samples\".format(len(X_test)))"
   ]
  },
  {
   "cell_type": "markdown",
   "id": "67c81e35-bf05-4dd0-9e88-7e8ccdb9676c",
   "metadata": {},
   "source": [
    "# Data preprocessing"
   ]
  },
  {
   "cell_type": "markdown",
   "id": "17b8db0a-e577-4549-8320-8b349f47f351",
   "metadata": {},
   "source": [
    "## Reshape the image into a 68x68x1 shape"
   ]
  },
  {
   "cell_type": "code",
   "execution_count": 53,
   "id": "58ee095c-c4f6-4598-8e1e-3c4a27bdee0d",
   "metadata": {},
   "outputs": [
    {
     "name": "stdout",
     "output_type": "stream",
     "text": [
      "Updated Image Shape for: \n",
      "\n",
      "-Training set: (16473, 68, 68, 3)\n",
      "-Validation set: (4119, 68, 68, 3)\n",
      "-Test set: (5148, 68, 68, 3)\n"
     ]
    }
   ],
   "source": [
    "# Padding the images with 2 pixels on each side (top, bottom, left, right)\n",
    "X_train_padded = np.pad(X_train, ((0,0),(2,2),(2,2),(0,0)), 'constant')\n",
    "X_val_padded = np.pad(X_val, ((0,0),(2,2),(2,2),(0,0)), 'constant')\n",
    "X_test_padded = np.pad(X_test, ((0,0),(2,2),(2,2),(0,0)), 'constant')\n",
    "\n",
    "print(\"Updated Image Shape for: \", end='\\n\\n')\n",
    "print(\"-Training set: {}\".format(X_train_padded.shape))\n",
    "print(\"-Validation set: {}\".format(X_val_padded.shape))\n",
    "print(\"-Test set: {}\".format(X_test_padded.shape))"
   ]
  },
  {
   "cell_type": "markdown",
   "id": "0da11925-23e5-485e-b54e-dfc27d350767",
   "metadata": {},
   "source": [
    "## Normalize and subtract the mean from all the data set"
   ]
  },
  {
   "cell_type": "code",
   "execution_count": 54,
   "id": "b8e618e1-405a-4533-b006-7024536c7a5b",
   "metadata": {},
   "outputs": [],
   "source": [
    "# Normalization.\n",
    "X_train, X_val, X_test = X_train/float(255), X_val/float(255), X_test/float(255)\n",
    "# Compute the mean of the training data\n",
    "mean = np.mean(X_train, axis=(0, 1, 2, 3))  # Mean across height, width, and channels\n",
    "X_train -= mean\n",
    "X_val   -= mean\n",
    "X_test  -= mean"
   ]
  },
  {
   "cell_type": "markdown",
   "id": "891d0f7e-9baf-4934-aa0e-ea08b37be91b",
   "metadata": {},
   "source": [
    "# Data visualization"
   ]
  },
  {
   "cell_type": "code",
   "execution_count": 64,
   "id": "02b190d3-fdf7-4946-8e41-544efa72d13f",
   "metadata": {},
   "outputs": [
    {
     "data": {
      "image/png": "[encoded data removed]",
      "text/plain": [
       "<Figure size 640x480 with 1 Axes>"
      ]
     },
     "metadata": {},
     "output_type": "display_data"
    }
   ],
   "source": [
    "# Index of image\n",
    "index = 3\n",
    "# recover the true value of imagee\n",
    "X_train_visualize = X_train[index] + mean\n",
    "# visualize the image\n",
    "plt.imshow(X_train_visualize)\n",
    "plt.title(f'Image {index}    label: {y_train[index]}')\n",
    "plt.axis('off')\n",
    "plt.show()\n"
   ]
  },
  {
   "cell_type": "code",
   "execution_count": null,
   "id": "b37e0997-3e38-4f77-97ff-94fa08d78dcf",
   "metadata": {},
   "outputs": [],
   "source": []
  }
 ],
 "metadata": {
  "kernelspec": {
   "display_name": "Python 3 (ipykernel)",
   "language": "python",
   "name": "python3"
  },
  "language_info": {
   "codemirror_mode": {
    "name": "ipython",
    "version": 3
   },
   "file_extension": ".py",
   "mimetype": "text/x-python",
   "name": "python",
   "nbconvert_exporter": "python",
   "pygments_lexer": "ipython3",
   "version": "3.12.4"
  }
 },
 "nbformat": 4,
 "nbformat_minor": 5
}
